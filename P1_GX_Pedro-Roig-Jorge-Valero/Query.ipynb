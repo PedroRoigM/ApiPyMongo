{
 "cells": [
  {
   "cell_type": "code",
   "execution_count": 1,
   "metadata": {},
   "outputs": [],
   "source": [
    "import ODM"
   ]
  },
  {
   "cell_type": "code",
   "execution_count": 7,
   "metadata": {},
   "outputs": [
    {
     "name": "stdout",
     "output_type": "stream",
     "text": [
      "Clases instanciadas\n"
     ]
    }
   ],
   "source": [
    "ODM.initApp(ext_globals=globals())"
   ]
  },
  {
   "cell_type": "code",
   "execution_count": 16,
   "metadata": {},
   "outputs": [
    {
     "name": "stdout",
     "output_type": "stream",
     "text": [
      "{'_id': ObjectId('670ff36bf5105848769bfa33'), 'compra_id': 'comp2', 'cliente': 'Pedro Sánchez', 'fecha_compra': '2024-10-17T15:45:00Z', 'productos': [{'producto_id': 'Pantalón vaquero', 'cantidad': 2, 'precio_unitario': 49.99}], 'monto_total': 99.98, 'almacen_id': 'alm2', 'destino': {'type': 'Point', 'coordinates': [2.1734, 41.3851]}}\n",
      "{'_id': ObjectId('670ff36bf5105848769bfa34'), 'compra_id': 'comp3', 'cliente': 'Pedro Sánchez', 'fecha_compra': '2024-10-18T09:15:00Z', 'productos': [{'producto_id': 'Vestido de fiesta', 'cantidad': 1, 'precio_unitario': 89.99}], 'monto_total': 89.99, 'almacen_id': 'alm3', 'destino': {'type': 'Point', 'coordinates': [-0.3763, 39.4699]}}\n"
     ]
    }
   ],
   "source": [
    "for doc in Compra.aggregate([{\"$match\": { \"cliente\":\"Pedro Sánchez\"}}]):\n",
    "    print(doc)"
   ]
  },
  {
   "cell_type": "code",
   "execution_count": 13,
   "metadata": {},
   "outputs": [
    {
     "name": "stdout",
     "output_type": "stream",
     "text": [
      "{'proveedor': ['Modas Paqui', 'Textiles García', 'Elegancia S.L.']}\n"
     ]
    }
   ],
   "source": [
    "for doc in Producto.aggregate([{\"$match\": { \"nombre\": \"Blusa de seda\"}}, { \"$project\": { \"_id\": 0, \"proveedor\":1 }}]):\n",
    "    print(doc)"
   ]
  },
  {
   "cell_type": "code",
   "execution_count": 15,
   "metadata": {},
   "outputs": [
    {
     "name": "stdout",
     "output_type": "stream",
     "text": [
      "{'totalProductos': [[{'producto_id': 'Reloj de pulsera', 'cantidad': 1, 'precio_unitario': 129.99}], [{'producto_id': 'Bolso de mano', 'cantidad': 1, 'precio_unitario': 45.99}, {'producto_id': 'Camiseta manga corta', 'cantidad': 3, 'precio_unitario': 19.99}]]}\n"
     ]
    }
   ],
   "source": [
    "for doc in Compra.aggregate([{ \"$group\": {\"_id\":\"$cliente\", \"totalProductos\": { \"$push\": \"$productos\" }}}, {\"$match\": {\"_id\":\"Isabel Moreno\"}}, { \"$project\": {\"_id\":0}}]):\n",
    "    print(doc)"
   ]
  },
  {
   "cell_type": "code",
   "execution_count": 17,
   "metadata": {},
   "outputs": [
    {
     "name": "stdout",
     "output_type": "stream",
     "text": [
      "{'nombre': 'Camiseta manga corta'}\n",
      "{'nombre': 'Camiseta manga corta básica'}\n",
      "{'nombre': 'Camiseta manga corta deportiva'}\n",
      "{'nombre': 'Camiseta manga corta elegante'}\n",
      "{'nombre': 'Camiseta manga corta estampada'}\n"
     ]
    }
   ],
   "source": [
    "for doc in Producto.aggregate([ {\"$match\": { \"proveedor\": { \"$elemMatch\": { \"$in\": [\"Modas Paqui\"]}}, \"nombre\":{ \"$regex\": \"manga corta\" }}}, {\"$project\": {\"nombre\":1, \"_id\":0}}]):\n",
    "    print(doc)"
   ]
  },
  {
   "cell_type": "code",
   "execution_count": null,
   "metadata": {},
   "outputs": [],
   "source": [
    "for doc in Compra.aggregate([ { $match: { cliente: 'Javier López'}},\n",
    "            {$lookup: { from:\"Producto\", localField: \"productos.producto_id\", foreignField:\"nombre\", as:\"productos\"}},\n",
    "            {$unwind:\"$productos\"},\n",
    "            { $group: { _id: 'Javier López', pesoTotal: { $sum:\"$productos.peso\" }, volumenTotal: { $sum: \"$productos.volumen\"}}}\n",
    "                     ]):\n",
    "    print(doc)"
   ]
  }
 ],
 "metadata": {
  "kernelspec": {
   "display_name": "Python 3",
   "language": "python",
   "name": "python3"
  },
  "language_info": {
   "codemirror_mode": {
    "name": "ipython",
    "version": 3
   },
   "file_extension": ".py",
   "mimetype": "text/x-python",
   "name": "python",
   "nbconvert_exporter": "python",
   "pygments_lexer": "ipython3",
   "version": "3.12.6"
  }
 },
 "nbformat": 4,
 "nbformat_minor": 2
}
