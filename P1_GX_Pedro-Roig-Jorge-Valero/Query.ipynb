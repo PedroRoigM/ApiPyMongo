{
 "cells": [
  {
   "cell_type": "code",
   "execution_count": 16,
   "metadata": {},
   "outputs": [],
   "source": [
    "import ODM"
   ]
  },
  {
   "cell_type": "code",
   "execution_count": 17,
   "metadata": {},
   "outputs": [
    {
     "name": "stdout",
     "output_type": "stream",
     "text": [
      "Clases instanciadas\n"
     ]
    }
   ],
   "source": [
    "ODM.initApp(ext_globals=globals())"
   ]
  },
  {
   "cell_type": "code",
   "execution_count": 18,
   "metadata": {},
   "outputs": [
    {
     "name": "stdout",
     "output_type": "stream",
     "text": [
      "{'_id': ObjectId('671b67cc4c43a28ccc6534a4'), 'compra_id': 'comp2', 'cliente': 'Pedro Sánchez', 'fecha_compra': datetime.datetime(2024, 10, 17, 0, 0), 'productos': [{'producto_id': 'Pantalón vaquero', 'cantidad': 2, 'precio_unitario': 49.99}], 'monto_total': 99.98, 'almacen_id': 'alm2', 'direccion': 'Birmingham City Centre, Birmingham', 'location': {'type': 'Point', 'coordinates': [-1.909386, 52.475576]}}\n",
      "{'_id': ObjectId('671b67cd4c43a28ccc6534a5'), 'compra_id': 'comp3', 'cliente': 'Pedro Sánchez', 'fecha_compra': datetime.datetime(2024, 10, 18, 0, 0), 'productos': [{'producto_id': 'Vestido de fiesta', 'cantidad': 1, 'precio_unitario': 89.99}], 'monto_total': 89.99, 'almacen_id': 'alm3', 'direccion': 'Market Street, Manchester', 'location': {'type': 'Point', 'coordinates': [-2.243687, 53.483004]}}\n"
     ]
    }
   ],
   "source": [
    "#1\n",
    "for doc in Compra.aggregate([{\"$match\": { \"cliente\":\"Pedro Sánchez\"}}]):\n",
    "    print(doc)"
   ]
  },
  {
   "cell_type": "code",
   "execution_count": 19,
   "metadata": {},
   "outputs": [
    {
     "name": "stdout",
     "output_type": "stream",
     "text": [
      "{'proveedor': ['Modas Paqui', 'Textiles García', 'Elegancia S.L.']}\n"
     ]
    }
   ],
   "source": [
    "#2\n",
    "for doc in Producto.aggregate([{\"$match\": { \"nombre\": \"Blusa de seda\"}}, { \"$project\": { \"_id\": 0, \"proveedor\":1 }}]):\n",
    "    print(doc)"
   ]
  },
  {
   "cell_type": "code",
   "execution_count": 20,
   "metadata": {},
   "outputs": [
    {
     "name": "stdout",
     "output_type": "stream",
     "text": [
      "{'totalProductos': [[{'producto_id': 'Reloj de pulsera', 'cantidad': 1, 'precio_unitario': 129.99}], [{'producto_id': 'Bolso de mano', 'cantidad': 1, 'precio_unitario': 45.99}, {'producto_id': 'Camiseta manga corta', 'cantidad': 3, 'precio_unitario': 19.99}]]}\n"
     ]
    }
   ],
   "source": [
    "#3\n",
    "for doc in Compra.aggregate([{ \"$group\": {\"_id\":\"$cliente\", \"totalProductos\": { \"$push\": \"$productos\" }}}, {\"$match\": {\"_id\":\"Isabel Moreno\"}}, { \"$project\": {\"_id\":0}}]):\n",
    "    print(doc)"
   ]
  },
  {
   "cell_type": "code",
   "execution_count": 21,
   "metadata": {},
   "outputs": [
    {
     "name": "stdout",
     "output_type": "stream",
     "text": [
      "{'nombre': 'Camiseta manga corta'}\n",
      "{'nombre': 'Camiseta manga corta básica'}\n",
      "{'nombre': 'Camiseta manga corta deportiva'}\n",
      "{'nombre': 'Camiseta manga corta elegante'}\n",
      "{'nombre': 'Camiseta manga corta estampada'}\n"
     ]
    }
   ],
   "source": [
    "#4\n",
    "for doc in Producto.aggregate([ {\"$match\": { \"proveedor\": { \"$elemMatch\": { \"$in\": [\"Modas Paqui\"]}}, \"nombre\":{ \"$regex\": \"manga corta\" }}}, {\"$project\": {\"nombre\":1, \"_id\":0}}]):\n",
    "    print(doc)"
   ]
  },
  {
   "cell_type": "code",
   "execution_count": 22,
   "metadata": {},
   "outputs": [
    {
     "name": "stdout",
     "output_type": "stream",
     "text": [
      "{'_id': 'Javier López', 'pesoTotal': 0.9, 'volumenTotal': 0.0045000000000000005}\n"
     ]
    }
   ],
   "source": [
    "#5\n",
    "for doc in Compra.aggregate([ { \"$match\": { \"cliente\": 'Javier López'}},{\"$lookup\": { \"from\":\"Producto\", \"localField\": \"productos.producto_id\", \"foreignField\":\"nombre\", \"as\":\"productos\"}},{\"$unwind\":\"$productos\"},{ \"$group\": { \"_id\": 'Javier López', \"pesoTotal\": { \"$sum\":\"$productos.peso\" }, \"volumenTotal\": { \"$sum\": \"$productos.volumen\"}}}]):\n",
    "    print(doc)"
   ]
  },
  {
   "cell_type": "code",
   "execution_count": 23,
   "metadata": {},
   "outputs": [],
   "source": [
    "#6"
   ]
  },
  {
   "cell_type": "code",
   "execution_count": 24,
   "metadata": {},
   "outputs": [
    {
     "name": "stdout",
     "output_type": "stream",
     "text": [
      "{'_id': None, 'proveedor': None, 'volumenfacturacion': 0}\n"
     ]
    }
   ],
   "source": [
    "#7\n",
    "\n",
    "for doc in Proveedor.aggregate([{\"$group\": {\"_id\": \"$proveedor\",\"totalFacturacion\": { \"$sum\": \"$facturacion\" }}},{\"$sort\": { \"facturacion\": -1 }},{\"$limit\": 3},{\"$project\": {\"proveedor\": \"$_id\",\"volumenfacturacion\": \"$totalFacturacion\"}}]):\n",
    "    print(doc)"
   ]
  },
  {
   "cell_type": "code",
   "execution_count": 25,
   "metadata": {},
   "outputs": [
    {
     "name": "stdout",
     "output_type": "stream",
     "text": [
      "{'_id': ObjectId('671b67d54c43a28ccc6534c3'), 'nombre': 'Almacén Central Madrid', 'direccion': 'Trafalgar Square, London', 'location': {'type': 'Point', 'coordinates': [-0.128049, 51.508037]}, 'distancia': 0.0}\n",
      "{'_id': ObjectId('671b67d94c43a28ccc6534c7'), 'nombre': 'Almacén Bilbao', 'direccion': 'Big Ben, Westminster, London', 'location': {'type': 'Point', 'coordinates': [-0.124572, 51.500704]}, 'distancia': 851.1123154600872}\n",
      "{'_id': ObjectId('671b67d74c43a28ccc6534c5'), 'nombre': 'Almacén Valencia', 'direccion': 'St. Paul’s Cathedral, London', 'location': {'type': 'Point', 'coordinates': [-0.098451, 51.513787]}, 'distancia': 2148.1580747695166}\n",
      "{'_id': ObjectId('671b67e04c43a28ccc6534cc'), 'nombre': 'Almacén Las Palmas', 'direccion': 'Hyde Park, London', 'location': {'type': 'Point', 'coordinates': [-0.162207, 51.507489]}, 'distancia': 2367.450606121052}\n",
      "{'_id': ObjectId('671b67d64c43a28ccc6534c4'), 'nombre': 'Almacén Principal Barcelona', 'direccion': 'The Shard, 32 London Bridge Street, London', 'location': {'type': 'Point', 'coordinates': [-0.086446, 51.504342]}, 'distancia': 2911.795245360216}\n",
      "{'_id': ObjectId('671b67dc4c43a28ccc6534c9'), 'nombre': 'Almacén Zaragoza', 'direccion': 'Victoria and Albert Museum, Cromwell Road, London', 'location': {'type': 'Point', 'coordinates': [-0.171637, 51.496884]}, 'distancia': 3265.5966117748235}\n",
      "{'_id': ObjectId('671b67de4c43a28ccc6534cb'), 'nombre': 'Almacén Palma de Mallorca', 'direccion': 'Windsor Castle, Windsor', 'location': {'type': 'Point', 'coordinates': [-0.604042, 51.483789]}, 'distancia': 33098.32546450459}\n"
     ]
    }
   ],
   "source": [
    "#8\n",
    "for doc in Almacen.aggregate([{\"$geoNear\": {\"near\": { \"type\": \"Point\", \"coordinates\": [-0.128049, 51.508037] }, \"distanceField\": \"distancia\",\"maxDistance\": 100000, \"spherical\": \"true\"}},{\"$project\": {\"_id\": 1,\"nombre\": 1,\"direccion\": 1,\"distancia\": 1,\"location\": 1}},{\"$sort\": { \"distancia\": 1 }}]):\n",
    "    print(doc)"
   ]
  },
  {
   "cell_type": "code",
   "execution_count": 26,
   "metadata": {},
   "outputs": [
    {
     "name": "stdout",
     "output_type": "stream",
     "text": [
      "{'compra_id': 'comp2', 'direccion': 'Birmingham City Centre, Birmingham'}\n",
      "{'compra_id': 'comp1', 'direccion': 'Trafalgar Square, London'}\n",
      "{'compra_id': 'comp8', 'direccion': 'Leicester Square, London'}\n",
      "{'compra_id': 'comp7', 'direccion': 'Coventry Street, London'}\n",
      "{'compra_id': 'comp6', 'direccion': 'Oxford Street, London'}\n",
      "{'compra_id': 'comp5', 'direccion': 'Bold Street, Liverpool'}\n",
      "{'compra_id': 'comp3', 'direccion': 'Market Street, Manchester'}\n",
      "{'compra_id': 'comp4', 'direccion': 'Royal Mile, Edinburgh'}\n"
     ]
    }
   ],
   "source": [
    "#9\n",
    "for doc in Compra.aggregate([{\"$match\": {\"location\": {\"$geoWithin\": {\"$geometry\": {\"type\": \"Polygon\",\"coordinates\": [[[-5.0, 50.0],[-5.0, 59.0],[2.0, 59.0],[2.0, 50.0],[-5.0, 50.0]]]}}}}},{\"$project\": {\"_id\":0,\"compra_id\": 1,\"direccion\": 1}}]):\n",
    "    print(doc)"
   ]
  },
  {
   "cell_type": "code",
   "execution_count": 30,
   "metadata": {},
   "outputs": [],
   "source": [
    "#10\n",
    "for doc in Envio.aggregate([{\"$match\": {\"fecha_envio\": \"ISODate('2024-12-22T00:00:00.000Z')\", \"almacen\": \"Almacén Principal Barcelona\"}}, { \"$out\": \"Envios_AlmacenSevilla\"}]):\n",
    "    print(doc)\n"
   ]
  }
 ],
 "metadata": {
  "kernelspec": {
   "display_name": "Python 3",
   "language": "python",
   "name": "python3"
  },
  "language_info": {
   "codemirror_mode": {
    "name": "ipython",
    "version": 3
   },
   "file_extension": ".py",
   "mimetype": "text/x-python",
   "name": "python",
   "nbconvert_exporter": "python",
   "pygments_lexer": "ipython3",
   "version": "3.12.6"
  }
 },
 "nbformat": 4,
 "nbformat_minor": 2
}
