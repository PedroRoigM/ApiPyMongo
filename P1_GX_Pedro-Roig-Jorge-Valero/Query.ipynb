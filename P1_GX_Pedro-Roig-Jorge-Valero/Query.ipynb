{
 "cells": [
  {
   "cell_type": "code",
   "execution_count": 1,
   "metadata": {},
   "outputs": [],
   "source": [
    "import ODM"
   ]
  },
  {
   "cell_type": "code",
   "execution_count": 2,
   "metadata": {},
   "outputs": [
    {
     "name": "stdout",
     "output_type": "stream",
     "text": [
      "Clases instanciadas\n"
     ]
    }
   ],
   "source": [
    "ODM.initApp(ext_globals=globals())"
   ]
  },
  {
   "cell_type": "code",
   "execution_count": 3,
   "metadata": {},
   "outputs": [
    {
     "name": "stdout",
     "output_type": "stream",
     "text": [
      "{'_id': ObjectId('6718c23691697f3c2aa2115f'), 'compra_id': 'comp2', 'cliente': 'Pedro Sánchez', 'fecha_compra': '2024-10-17T15:45:00Z', 'productos': [{'producto_id': 'Pantalón vaquero', 'cantidad': 2, 'precio_unitario': 49.99}], 'monto_total': 99.98, 'almacen_id': 'alm2', 'destino': {'type': 'Point', 'coordinates': [2.1734, 41.3851]}}\n",
      "{'_id': ObjectId('6718c23691697f3c2aa21160'), 'compra_id': 'comp3', 'cliente': 'Pedro Sánchez', 'fecha_compra': '2024-10-18T09:15:00Z', 'productos': [{'producto_id': 'Vestido de fiesta', 'cantidad': 1, 'precio_unitario': 89.99}], 'monto_total': 89.99, 'almacen_id': 'alm3', 'destino': {'type': 'Point', 'coordinates': [-0.3763, 39.4699]}}\n"
     ]
    }
   ],
   "source": [
    "#1\n",
    "for doc in Compra.aggregate([{\"$match\": { \"cliente\":\"Pedro Sánchez\"}}]):\n",
    "    print(doc)"
   ]
  },
  {
   "cell_type": "code",
   "execution_count": 4,
   "metadata": {},
   "outputs": [
    {
     "name": "stdout",
     "output_type": "stream",
     "text": [
      "{'proveedor': ['Modas Paqui', 'Textiles García', 'Elegancia S.L.']}\n"
     ]
    }
   ],
   "source": [
    "#2\n",
    "for doc in Producto.aggregate([{\"$match\": { \"nombre\": \"Blusa de seda\"}}, { \"$project\": { \"_id\": 0, \"proveedor\":1 }}]):\n",
    "    print(doc)"
   ]
  },
  {
   "cell_type": "code",
   "execution_count": 5,
   "metadata": {},
   "outputs": [
    {
     "name": "stdout",
     "output_type": "stream",
     "text": [
      "{'totalProductos': [[{'producto_id': 'Reloj de pulsera', 'cantidad': 1, 'precio_unitario': 129.99}], [{'producto_id': 'Bolso de mano', 'cantidad': 1, 'precio_unitario': 45.99}, {'producto_id': 'Camiseta manga corta', 'cantidad': 3, 'precio_unitario': 19.99}]]}\n"
     ]
    }
   ],
   "source": [
    "#3\n",
    "for doc in Compra.aggregate([{ \"$group\": {\"_id\":\"$cliente\", \"totalProductos\": { \"$push\": \"$productos\" }}}, {\"$match\": {\"_id\":\"Isabel Moreno\"}}, { \"$project\": {\"_id\":0}}]):\n",
    "    print(doc)"
   ]
  },
  {
   "cell_type": "code",
   "execution_count": 6,
   "metadata": {},
   "outputs": [
    {
     "name": "stdout",
     "output_type": "stream",
     "text": [
      "{'nombre': 'Camiseta manga corta'}\n",
      "{'nombre': 'Camiseta manga corta básica'}\n",
      "{'nombre': 'Camiseta manga corta deportiva'}\n",
      "{'nombre': 'Camiseta manga corta elegante'}\n",
      "{'nombre': 'Camiseta manga corta estampada'}\n"
     ]
    }
   ],
   "source": [
    "#4\n",
    "for doc in Producto.aggregate([ {\"$match\": { \"proveedor\": { \"$elemMatch\": { \"$in\": [\"Modas Paqui\"]}}, \"nombre\":{ \"$regex\": \"manga corta\" }}}, {\"$project\": {\"nombre\":1, \"_id\":0}}]):\n",
    "    print(doc)"
   ]
  },
  {
   "cell_type": "code",
   "execution_count": 7,
   "metadata": {},
   "outputs": [
    {
     "name": "stdout",
     "output_type": "stream",
     "text": [
      "{'_id': 'Javier López', 'pesoTotal': 0.9, 'volumenTotal': 0.0045000000000000005}\n"
     ]
    }
   ],
   "source": [
    "#5\n",
    "for doc in Compra.aggregate([ { \"$match\": { \"cliente\": 'Javier López'}},{\"$lookup\": { \"from\":\"Producto\", \"localField\": \"productos.producto_id\", \"foreignField\":\"nombre\", \"as\":\"productos\"}},{\"$unwind\":\"$productos\"},{ \"$group\": { \"_id\": 'Javier López', \"pesoTotal\": { \"$sum\":\"$productos.peso\" }, \"volumenTotal\": { \"$sum\": \"$productos.volumen\"}}}]):\n",
    "    print(doc)"
   ]
  },
  {
   "cell_type": "code",
   "execution_count": 1,
   "metadata": {},
   "outputs": [
    {
     "ename": "SyntaxError",
     "evalue": "invalid syntax (504828143.py, line 5)",
     "output_type": "error",
     "traceback": [
      "\u001b[1;36m  Cell \u001b[1;32mIn[1], line 5\u001b[1;36m\u001b[0m\n\u001b[1;33m    $group: {\u001b[0m\n\u001b[1;37m    ^\u001b[0m\n\u001b[1;31mSyntaxError\u001b[0m\u001b[1;31m:\u001b[0m invalid syntax\n"
     ]
    }
   ],
   "source": [
    "#7\n",
    "\n",
    "db.facturas.aggregate([\n",
    "    {\n",
    "        $group: {\n",
    "            _id: \"$proveedor\",\n",
    "            totalFacturacion: { $sum: \"$facturacion\" }\n",
    "        }\n",
    "    },\n",
    "    {\n",
    "        $sort: { monto_total: -1 }\n",
    "    },\n",
    "    {\n",
    "        $limit: 3\n",
    "    },\n",
    "    {\n",
    "        $project: {\n",
    "            proveedor: \"$_id\",\n",
    "            volumenfacturacion: \"$totalFacturacion\"\n",
    "        }\n",
    "    }\n",
    "]);"
   ]
  }
 ],
 "metadata": {
  "kernelspec": {
   "display_name": "Python 3",
   "language": "python",
   "name": "python3"
  },
  "language_info": {
   "codemirror_mode": {
    "name": "ipython",
    "version": 3
   },
   "file_extension": ".py",
   "mimetype": "text/x-python",
   "name": "python",
   "nbconvert_exporter": "python",
   "pygments_lexer": "ipython3",
   "version": "3.12.6"
  }
 },
 "nbformat": 4,
 "nbformat_minor": 2
}
