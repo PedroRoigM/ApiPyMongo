{
 "cells": [
  {
   "cell_type": "code",
   "execution_count": 2,
   "metadata": {},
   "outputs": [],
   "source": [
    "import ODM"
   ]
  },
  {
   "cell_type": "code",
   "execution_count": 3,
   "metadata": {},
   "outputs": [
    {
     "name": "stdout",
     "output_type": "stream",
     "text": [
      "Clases instanciadas\n"
     ]
    }
   ],
   "source": [
    "ODM.initApp(ext_globals=globals())"
   ]
  },
  {
   "cell_type": "code",
   "execution_count": 4,
   "metadata": {},
   "outputs": [
    {
     "name": "stdout",
     "output_type": "stream",
     "text": [
      "{'_id': ObjectId('6718eb519d369fdc761ba86c'), 'compra_id': 'comp2', 'cliente': 'Pedro Sánchez', 'fecha_compra': '2024-10-17', 'productos': [{'producto_id': 'Pantalón vaquero', 'cantidad': 2, 'precio_unitario': 49.99}], 'monto_total': 99.98, 'almacen_id': 'alm2', 'direccion': 'Birmingham City Centre, Birmingham', 'location': {'type': 'Point', 'coordinates': [-1.909386, 52.475576]}}\n",
      "{'_id': ObjectId('6718eb529d369fdc761ba86d'), 'compra_id': 'comp3', 'cliente': 'Pedro Sánchez', 'fecha_compra': '2024-10-18', 'productos': [{'producto_id': 'Vestido de fiesta', 'cantidad': 1, 'precio_unitario': 89.99}], 'monto_total': 89.99, 'almacen_id': 'alm3', 'direccion': 'Market Street, Manchester', 'location': {'type': 'Point', 'coordinates': [-2.24474, 53.483218]}}\n"
     ]
    }
   ],
   "source": [
    "#1\n",
    "for doc in Compra.aggregate([{\"$match\": { \"cliente\":\"Pedro Sánchez\"}}]):\n",
    "    print(doc)"
   ]
  },
  {
   "cell_type": "code",
   "execution_count": 5,
   "metadata": {},
   "outputs": [
    {
     "name": "stdout",
     "output_type": "stream",
     "text": [
      "{'proveedor': ['Modas Paqui', 'Textiles García', 'Elegancia S.L.']}\n"
     ]
    }
   ],
   "source": [
    "#2\n",
    "for doc in Producto.aggregate([{\"$match\": { \"nombre\": \"Blusa de seda\"}}, { \"$project\": { \"_id\": 0, \"proveedor\":1 }}]):\n",
    "    print(doc)"
   ]
  },
  {
   "cell_type": "code",
   "execution_count": 6,
   "metadata": {},
   "outputs": [
    {
     "name": "stdout",
     "output_type": "stream",
     "text": [
      "{'totalProductos': [[{'producto_id': 'Reloj de pulsera', 'cantidad': 1, 'precio_unitario': 129.99}], [{'producto_id': 'Bolso de mano', 'cantidad': 1, 'precio_unitario': 45.99}, {'producto_id': 'Camiseta manga corta', 'cantidad': 3, 'precio_unitario': 19.99}]]}\n"
     ]
    }
   ],
   "source": [
    "#3\n",
    "for doc in Compra.aggregate([{ \"$group\": {\"_id\":\"$cliente\", \"totalProductos\": { \"$push\": \"$productos\" }}}, {\"$match\": {\"_id\":\"Isabel Moreno\"}}, { \"$project\": {\"_id\":0}}]):\n",
    "    print(doc)"
   ]
  },
  {
   "cell_type": "code",
   "execution_count": 7,
   "metadata": {},
   "outputs": [
    {
     "name": "stdout",
     "output_type": "stream",
     "text": [
      "{'nombre': 'Camiseta manga corta'}\n",
      "{'nombre': 'Camiseta manga corta básica'}\n",
      "{'nombre': 'Camiseta manga corta deportiva'}\n",
      "{'nombre': 'Camiseta manga corta elegante'}\n",
      "{'nombre': 'Camiseta manga corta estampada'}\n"
     ]
    }
   ],
   "source": [
    "#4\n",
    "for doc in Producto.aggregate([ {\"$match\": { \"proveedor\": { \"$elemMatch\": { \"$in\": [\"Modas Paqui\"]}}, \"nombre\":{ \"$regex\": \"manga corta\" }}}, {\"$project\": {\"nombre\":1, \"_id\":0}}]):\n",
    "    print(doc)"
   ]
  },
  {
   "cell_type": "code",
   "execution_count": 8,
   "metadata": {},
   "outputs": [
    {
     "name": "stdout",
     "output_type": "stream",
     "text": [
      "{'_id': 'Javier López', 'pesoTotal': 0.9, 'volumenTotal': 0.0045000000000000005}\n"
     ]
    }
   ],
   "source": [
    "#5\n",
    "for doc in Compra.aggregate([ { \"$match\": { \"cliente\": 'Javier López'}},{\"$lookup\": { \"from\":\"Producto\", \"localField\": \"productos.producto_id\", \"foreignField\":\"nombre\", \"as\":\"productos\"}},{\"$unwind\":\"$productos\"},{ \"$group\": { \"_id\": 'Javier López', \"pesoTotal\": { \"$sum\":\"$productos.peso\" }, \"volumenTotal\": { \"$sum\": \"$productos.volumen\"}}}]):\n",
    "    print(doc)"
   ]
  },
  {
   "cell_type": "code",
   "execution_count": 9,
   "metadata": {},
   "outputs": [],
   "source": [
    "#6"
   ]
  },
  {
   "cell_type": "code",
   "execution_count": 11,
   "metadata": {},
   "outputs": [
    {
     "name": "stdout",
     "output_type": "stream",
     "text": [
      "{'_id': None, 'proveedor': None, 'volumenfacturacion': 0}\n"
     ]
    }
   ],
   "source": [
    "#7\n",
    "\n",
    "for doc in Proveedor.aggregate([{\"$group\": {\"_id\": \"$proveedor\",\"totalFacturacion\": { \"$sum\": \"$facturacion\" }}},{\"$sort\": { \"facturacion\": -1 }},{\"$limit\": 3},{\"$project\": {\"proveedor\": \"$_id\",\"volumenfacturacion\": \"$totalFacturacion\"}}]):\n",
    "    print(doc)"
   ]
  },
  {
   "cell_type": "code",
   "execution_count": null,
   "metadata": {},
   "outputs": [],
   "source": [
    "#8"
   ]
  },
  {
   "cell_type": "code",
   "execution_count": null,
   "metadata": {},
   "outputs": [],
   "source": [
    "#9"
   ]
  },
  {
   "cell_type": "code",
   "execution_count": null,
   "metadata": {},
   "outputs": [],
   "source": [
    "#10"
   ]
  }
 ],
 "metadata": {
  "kernelspec": {
   "display_name": "Python 3",
   "language": "python",
   "name": "python3"
  },
  "language_info": {
   "codemirror_mode": {
    "name": "ipython",
    "version": 3
   },
   "file_extension": ".py",
   "mimetype": "text/x-python",
   "name": "python",
   "nbconvert_exporter": "python",
   "pygments_lexer": "ipython3",
   "version": "3.12.6"
  }
 },
 "nbformat": 4,
 "nbformat_minor": 2
}
